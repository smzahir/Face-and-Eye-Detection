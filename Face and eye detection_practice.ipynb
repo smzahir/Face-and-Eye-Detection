{
 "cells": [
  {
   "cell_type": "markdown",
   "metadata": {},
   "source": [
    "# Face Detection using HAAR Cascade"
   ]
  },
  {
   "cell_type": "code",
   "execution_count": 8,
   "metadata": {},
   "outputs": [],
   "source": [
    "import cv2 as cv\n",
    "\n",
    "image  = cv.imread('bird.jpg')\n",
    "cv.imshow('image',image)\n",
    "cv.waitKey()\n",
    "cv.destroyAllWindows()"
   ]
  },
  {
   "cell_type": "code",
   "execution_count": 5,
   "metadata": {},
   "outputs": [
    {
     "data": {
      "text/plain": [
       "(427, 640, 3)"
      ]
     },
     "execution_count": 5,
     "metadata": {},
     "output_type": "execute_result"
    }
   ],
   "source": [
    "image.shape"
   ]
  },
  {
   "cell_type": "code",
   "execution_count": 8,
   "metadata": {},
   "outputs": [
    {
     "data": {
      "text/plain": [
       "(427, 640, 3)"
      ]
     },
     "execution_count": 8,
     "metadata": {},
     "output_type": "execute_result"
    }
   ],
   "source": [
    "import cv2 as cv\n",
    "image  = cv.imread('people.jpg')\n",
    "cv.imshow('image',image)\n",
    "cv.waitKey()\n",
    "cv.destroyAllWindows()image.shape"
   ]
  },
  {
   "cell_type": "code",
   "execution_count": 2,
   "metadata": {},
   "outputs": [],
   "source": [
    "face_classifier = cv.CascadeClassifier('haarcascade_frontalface_default.xml')\n",
    "gray = cv.cvtColor(image, cv.COLOR_BGR2GRAY)\n",
    "faces = face_classifier.detectMultiScale(gray, 1.3, 5)"
   ]
  },
  {
   "cell_type": "code",
   "execution_count": 17,
   "metadata": {},
   "outputs": [],
   "source": [
    "if faces is():\n",
    "    print('no faces found')"
   ]
  },
  {
   "cell_type": "code",
   "execution_count": 1,
   "metadata": {},
   "outputs": [],
   "source": [
    "import cv2 as cv\n",
    "image  = cv.imread('workplace.jpg')\n",
    "gray = cv.cvtColor(image, cv.COLOR_BGR2GRAY)\n",
    "face_classifier = cv.CascadeClassifier('haarcascade_frontalface_default.xml')\n",
    "eye_classifier = cv.CascadeClassifier('haarcascade_eye.xml')\n",
    "faces = face_classifier.detectMultiScale(gray, 1.3, 5)\n",
    "if faces is():\n",
    "    print('no faces found')\n",
    "for (x,y,w,h) in faces:\n",
    "    cv.rectangle(image,(x,y),(x+w,y+h),(127,0,255), 2)\n",
    "    cv.imshow('image',image)\n",
    "    cv.waitKey(0)\n",
    "cv.destroyAllWindows()\n",
    "  "
   ]
  },
  {
   "cell_type": "code",
   "execution_count": null,
   "metadata": {},
   "outputs": [],
   "source": [
    "    roi_img = image[y:y+h, x:x+w]\n",
    "    roi_gray = gray[y:y+h, x:x+w]\n",
    "    eyes = eye_classifier.detectMultiScale(roi_gray)\n",
    "    for (ex, ey, ew, eh) in eyes:\n",
    "        cv.rectangle(roi_img,(ex,ey),(ex+ew,ey+eh),(255,255,0), 2)\n",
    "        cv.imshow('image',image)\n",
    "        cv.waitKey(0)\n",
    "        "
   ]
  },
  {
   "cell_type": "code",
   "execution_count": 4,
   "metadata": {},
   "outputs": [],
   "source": [
    "import cv2 as cv\n",
    "image = cv.imread('outdoors.jpg')\n",
    "gray = cv.cvtColor(image, cv.COLOR_BGR2GRAY)\n",
    "eye_classifier = cv.CascadeClassifier('haarcascade_eye.xml')\n",
    "eyes = eye_classifier.detectMultiScale(gray, 1.3, 5)\n",
    "if eyes is ():\n",
    "    print('No eyes detected')\n",
    "for (x,y,w,h) in eyes:\n",
    "    cv.rectangle(image,(x,y),(x+w,y+h),(255,255,0), 2)\n",
    "    cv.imshow('image',image)\n",
    "    cv.waitKey()\n",
    "cv.destroyAllWindows()"
   ]
  },
  {
   "cell_type": "code",
   "execution_count": 3,
   "metadata": {},
   "outputs": [],
   "source": []
  },
  {
   "cell_type": "code",
   "execution_count": null,
   "metadata": {},
   "outputs": [],
   "source": []
  }
 ],
 "metadata": {
  "kernelspec": {
   "display_name": "Python 3",
   "language": "python",
   "name": "python3"
  },
  "language_info": {
   "codemirror_mode": {
    "name": "ipython",
    "version": 3
   },
   "file_extension": ".py",
   "mimetype": "text/x-python",
   "name": "python",
   "nbconvert_exporter": "python",
   "pygments_lexer": "ipython3",
   "version": "3.8.8"
  }
 },
 "nbformat": 4,
 "nbformat_minor": 2
}
